{
  "nbformat": 4,
  "nbformat_minor": 0,
  "metadata": {
    "colab": {
      "provenance": [],
      "authorship_tag": "ABX9TyM9q4DUwpTWJJZEL3VlhFM3",
      "include_colab_link": true
    },
    "kernelspec": {
      "name": "python3",
      "display_name": "Python 3"
    },
    "language_info": {
      "name": "python"
    }
  },
  "cells": [
    {
      "cell_type": "markdown",
      "metadata": {
        "id": "view-in-github",
        "colab_type": "text"
      },
      "source": [
        "<a href=\"https://colab.research.google.com/github/mmulready2/HW3_search_mvm/blob/main/treewalk.ipynb\" target=\"_parent\"><img src=\"https://colab.research.google.com/assets/colab-badge.svg\" alt=\"Open In Colab\"/></a>"
      ]
    },
    {
      "cell_type": "markdown",
      "source": [
        "### Definitions for Trees ###\n",
        "\n",
        "**tree**: a directed graph data structure made of nodes. each node having exactly 1 parent except for the root node which has 0 parents. each node will have 0 or more children.\n",
        "\n",
        "**root**: top most node that has no parent\n",
        "\n",
        "**leaf**: a tree node with no children\n",
        "\n",
        "**child**: a node's children are nodes for which it has a direct child reference. anything not direct turns into grand-child, great-grand-child, etc.\n",
        "\n",
        "**n-ary tree**: a tree in which each node can have a variable number of children\n"
      ],
      "metadata": {
        "id": "YSv3LNAXuZOo"
      }
    }
  ]
}