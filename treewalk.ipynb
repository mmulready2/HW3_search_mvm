{
  "nbformat": 4,
  "nbformat_minor": 0,
  "metadata": {
    "colab": {
      "provenance": [],
      "include_colab_link": true
    },
    "kernelspec": {
      "name": "python3",
      "display_name": "Python 3"
    },
    "language_info": {
      "name": "python"
    }
  },
  "cells": [
    {
      "cell_type": "markdown",
      "metadata": {
        "id": "view-in-github",
        "colab_type": "text"
      },
      "source": [
        "<a href=\"https://colab.research.google.com/github/mmulready2/HW3_search_mvm/blob/main/treewalk.ipynb\" target=\"_parent\"><img src=\"https://colab.research.google.com/assets/colab-badge.svg\" alt=\"Open In Colab\"/></a>"
      ]
    },
    {
      "cell_type": "markdown",
      "source": [
        "### Definitions for Trees ###\n",
        "\n",
        "**tree**: a directed graph data structure made of nodes. each node having exactly 1 parent except for the root node which has 0 parents. each node will have 0 or more children.\n",
        "\n",
        "**root**: top most node that has no parent\n",
        "\n",
        "**leaf**: a tree node with no children\n",
        "\n",
        "**child**: a node's children are nodes for which it has a direct child reference. anything not direct turns into grand-child, great-grand-child, etc.\n",
        "\n",
        "**n-ary tree**: a tree in which each node can have a variable number of children\n",
        "\n",
        "**attributes**: variables within a class\n",
        "\n",
        "**members**: functions within a class\n",
        "\n",
        "**instantiation**: class is the recipe, instantiate is to make the cookie\n"
      ],
      "metadata": {
        "id": "YSv3LNAXuZOo"
      }
    },
    {
      "cell_type": "code",
      "source": [
        "class Node:\n",
        "  def __init__(self):\n",
        "    print(\"A node is born\")\n",
        "    # attributes\n",
        "    parent = None\n",
        "    children = []\n",
        "    data = ''\n",
        "\n",
        "  def __str__(self):\n",
        "    out = 'data:'\n",
        "    out += self.data\n",
        "    return out\n",
        "\n",
        "node1 = Node()\n",
        "node1.data = 'A'\n",
        "node2 = Node()\n",
        "node2.data = 'B'\n",
        "\n",
        "print(node1)"
      ],
      "metadata": {
        "id": "3bWKsBX7xfi6",
        "outputId": "e223cba6-97b7-4e31-c75d-fffb305bf748",
        "colab": {
          "base_uri": "https://localhost:8080/"
        }
      },
      "execution_count": 6,
      "outputs": [
        {
          "output_type": "stream",
          "name": "stdout",
          "text": [
            "A node is born\n",
            "A node is born\n",
            "data:A\n"
          ]
        }
      ]
    }
  ]
}